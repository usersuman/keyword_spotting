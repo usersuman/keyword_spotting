{
 "cells": [
  {
   "cell_type": "markdown",
   "id": "f5ac2508",
   "metadata": {
    "papermill": {
     "duration": 0.01587,
     "end_time": "2022-03-27T13:45:57.184130",
     "exception": false,
     "start_time": "2022-03-27T13:45:57.168260",
     "status": "completed"
    },
    "tags": []
   },
   "source": [
    "# **Import Necessary Library**"
   ]
  },
  {
   "cell_type": "code",
   "execution_count": 1,
   "id": "a82d1d74",
   "metadata": {
    "execution": {
     "iopub.execute_input": "2022-03-27T13:45:57.220651Z",
     "iopub.status.busy": "2022-03-27T13:45:57.219487Z",
     "iopub.status.idle": "2022-03-27T13:46:03.286274Z",
     "shell.execute_reply": "2022-03-27T13:46:03.286798Z"
    },
    "papermill": {
     "duration": 6.086534,
     "end_time": "2022-03-27T13:46:03.287129",
     "exception": false,
     "start_time": "2022-03-27T13:45:57.200595",
     "status": "completed"
    },
    "tags": []
   },
   "outputs": [],
   "source": [
    "import json\n",
    "import numpy as np\n",
    "import tensorflow as tf\n",
    "import matplotlib.pyplot as plt\n",
    "from sklearn.model_selection import train_test_split"
   ]
  },
  {
   "cell_type": "markdown",
   "id": "dbc39cbf",
   "metadata": {
    "papermill": {
     "duration": 0.016562,
     "end_time": "2022-03-27T13:46:03.320228",
     "exception": false,
     "start_time": "2022-03-27T13:46:03.303666",
     "status": "completed"
    },
    "tags": []
   },
   "source": [
    "# **Build Model**"
   ]
  },
  {
   "cell_type": "code",
   "execution_count": 2,
   "id": "d758eaa6",
   "metadata": {
    "execution": {
     "iopub.execute_input": "2022-03-27T13:46:03.356199Z",
     "iopub.status.busy": "2022-03-27T13:46:03.355524Z",
     "iopub.status.idle": "2022-03-27T13:46:03.359541Z",
     "shell.execute_reply": "2022-03-27T13:46:03.360024Z"
    },
    "papermill": {
     "duration": 0.023496,
     "end_time": "2022-03-27T13:46:03.360202",
     "exception": false,
     "start_time": "2022-03-27T13:46:03.336706",
     "status": "completed"
    },
    "tags": []
   },
   "outputs": [],
   "source": [
    "DATA_PATH = \"./control_keywords.json\"\n",
    "SAVED_MODEL_PATH = \"keyword_model.h5\"\n",
    "EPOCHS = 20\n",
    "BATCH_SIZE = 100\n",
    "PATIENCE = 2\n",
    "LEARNING_RATE = 0.01"
   ]
  },
  {
   "cell_type": "markdown",
   "id": "9964bfa9",
   "metadata": {
    "papermill": {
     "duration": 0.01636,
     "end_time": "2022-03-27T13:46:03.392984",
     "exception": false,
     "start_time": "2022-03-27T13:46:03.376624",
     "status": "completed"
    },
    "tags": []
   },
   "source": [
    "## **1. Load Data_Json File**"
   ]
  },
  {
   "cell_type": "code",
   "execution_count": 3,
   "id": "77533b60",
   "metadata": {
    "_kg_hide-input": true,
    "execution": {
     "iopub.execute_input": "2022-03-27T13:46:03.430458Z",
     "iopub.status.busy": "2022-03-27T13:46:03.429708Z",
     "iopub.status.idle": "2022-03-27T13:46:03.434577Z",
     "shell.execute_reply": "2022-03-27T13:46:03.435050Z"
    },
    "papermill": {
     "duration": 0.02556,
     "end_time": "2022-03-27T13:46:03.435222",
     "exception": false,
     "start_time": "2022-03-27T13:46:03.409662",
     "status": "completed"
    },
    "tags": []
   },
   "outputs": [],
   "source": [
    "def load_data(data_path):\n",
    "    \"\"\"Loads training dataset from json file.\n",
    "\n",
    "    :param data_path (str): Path to json file containing data\n",
    "    :return X (ndarray): Inputs\n",
    "    :return y (ndarray): Targets\n",
    "\n",
    "    \"\"\"\n",
    "    with open(data_path, \"r\") as fp:\n",
    "        data = json.load(fp)\n",
    "\n",
    "    X = np.array(data[\"MFCCs\"])\n",
    "    y = np.array(data[\"labels\"])\n",
    "    print(\"Training sets loaded!\")\n",
    "    return X, y\n"
   ]
  },
  {
   "cell_type": "markdown",
   "id": "2c08c881",
   "metadata": {
    "papermill": {
     "duration": 0.016862,
     "end_time": "2022-03-27T13:46:03.468635",
     "exception": false,
     "start_time": "2022-03-27T13:46:03.451773",
     "status": "completed"
    },
    "tags": []
   },
   "source": [
    "## **2. Split_Data**"
   ]
  },
  {
   "cell_type": "code",
   "execution_count": 4,
   "id": "43dfde37",
   "metadata": {
    "_kg_hide-input": true,
    "execution": {
     "iopub.execute_input": "2022-03-27T13:46:03.505953Z",
     "iopub.status.busy": "2022-03-27T13:46:03.505289Z",
     "iopub.status.idle": "2022-03-27T13:46:03.511030Z",
     "shell.execute_reply": "2022-03-27T13:46:03.511530Z"
    },
    "papermill": {
     "duration": 0.025711,
     "end_time": "2022-03-27T13:46:03.511713",
     "exception": false,
     "start_time": "2022-03-27T13:46:03.486002",
     "status": "completed"
    },
    "tags": []
   },
   "outputs": [],
   "source": [
    "def prepare_dataset(data_path, test_size=0.2, validation_size=0.2):\n",
    "\n",
    "    # load dataset\n",
    "    X, y = load_data(data_path)\n",
    "\n",
    "    # create train, validation, test split\n",
    "    X_train, X_test, y_train, y_test = train_test_split(X, y, test_size=test_size)\n",
    "    X_train, X_validation, y_train, y_validation = train_test_split(X_train, y_train, test_size=validation_size)\n",
    "\n",
    "    # add an axis to nd array\n",
    "    X_train = X_train[..., np.newaxis]\n",
    "    X_test = X_test[..., np.newaxis]\n",
    "    X_validation = X_validation[..., np.newaxis]\n",
    "\n",
    "    return X_train, y_train, X_validation, y_validation, X_test, y_test\n",
    "\n"
   ]
  },
  {
   "cell_type": "markdown",
   "id": "8ee398ca",
   "metadata": {
    "papermill": {
     "duration": 0.016265,
     "end_time": "2022-03-27T13:46:03.545266",
     "exception": false,
     "start_time": "2022-03-27T13:46:03.529001",
     "status": "completed"
    },
    "tags": []
   },
   "source": [
    "## **3. Build_Model_CNN-Architect**"
   ]
  },
  {
   "cell_type": "code",
   "execution_count": 8,
   "id": "104df81f",
   "metadata": {
    "_kg_hide-input": true,
    "execution": {
     "iopub.execute_input": "2022-03-27T13:46:03.582205Z",
     "iopub.status.busy": "2022-03-27T13:46:03.581470Z",
     "iopub.status.idle": "2022-03-27T13:46:03.596124Z",
     "shell.execute_reply": "2022-03-27T13:46:03.595421Z"
    },
    "papermill": {
     "duration": 0.034437,
     "end_time": "2022-03-27T13:46:03.596299",
     "exception": false,
     "start_time": "2022-03-27T13:46:03.561862",
     "status": "completed"
    },
    "tags": []
   },
   "outputs": [],
   "source": [
    "def build_model(input_shape, loss=\"sparse_categorical_crossentropy\", learning_rate=0.001):\n",
    "\n",
    "    # build network architecture using convolutional layers\n",
    "    model = tf.keras.models.Sequential()\n",
    "\n",
    "    # 1st conv layer\n",
    "    model.add(tf.keras.layers.Conv2D(64, (3, 3), activation='relu', input_shape=input_shape,\n",
    "                                     kernel_regularizer=tf.keras.regularizers.l2(0.001)))\n",
    "    model.add(tf.keras.layers.BatchNormalization())\n",
    "    model.add(tf.keras.layers.MaxPooling2D((3, 3), strides=(2,2), padding='same'))\n",
    "\n",
    "    # 2nd conv layer\n",
    "    model.add(tf.keras.layers.Conv2D(32, (3, 3), activation='relu',\n",
    "                                     kernel_regularizer=tf.keras.regularizers.l2(0.001)))\n",
    "    model.add(tf.keras.layers.BatchNormalization())\n",
    "    model.add(tf.keras.layers.MaxPooling2D((3, 3), strides=(2,2), padding='same'))\n",
    "\n",
    "    # 3rd conv layer\n",
    "    model.add(tf.keras.layers.Conv2D(32, (2, 2), activation='relu',\n",
    "                                     kernel_regularizer=tf.keras.regularizers.l2(0.001)))\n",
    "    model.add(tf.keras.layers.BatchNormalization())\n",
    "    model.add(tf.keras.layers.MaxPooling2D((2, 2), strides=(2,2), padding='same'))\n",
    "\n",
    "    # flatten output and feed into dense layer\n",
    "    model.add(tf.keras.layers.Flatten())\n",
    "    model.add(tf.keras.layers.Dense(64, activation='relu'))\n",
    "    tf.keras.layers.Dropout(0.3)\n",
    "\n",
    "    # softmax output layer\n",
    "    model.add(tf.keras.layers.Dense(4, activation='softmax'))\n",
    "\n",
    "    optimiser = tf.optimizers.Adam(learning_rate=learning_rate)\n",
    "\n",
    "    # compile model\n",
    "    model.compile(optimizer=optimiser,\n",
    "                  loss=loss,\n",
    "                  metrics=[\"accuracy\"])\n",
    "\n",
    "    # print model parameters on console\n",
    "    model.summary()\n",
    "\n",
    "    return model\n"
   ]
  },
  {
   "cell_type": "markdown",
   "id": "f15b35bf",
   "metadata": {
    "papermill": {
     "duration": 0.017725,
     "end_time": "2022-03-27T13:46:03.630786",
     "exception": false,
     "start_time": "2022-03-27T13:46:03.613061",
     "status": "completed"
    },
    "tags": []
   },
   "source": [
    "## **4. Train_Model**"
   ]
  },
  {
   "cell_type": "code",
   "execution_count": 9,
   "id": "77cffa64",
   "metadata": {
    "_kg_hide-input": true,
    "execution": {
     "iopub.execute_input": "2022-03-27T13:46:03.672532Z",
     "iopub.status.busy": "2022-03-27T13:46:03.671577Z",
     "iopub.status.idle": "2022-03-27T13:46:03.673824Z",
     "shell.execute_reply": "2022-03-27T13:46:03.674321Z"
    },
    "papermill": {
     "duration": 0.027039,
     "end_time": "2022-03-27T13:46:03.674494",
     "exception": false,
     "start_time": "2022-03-27T13:46:03.647455",
     "status": "completed"
    },
    "tags": []
   },
   "outputs": [],
   "source": [
    "def train(model, epochs, batch_size, patience, X_train, y_train, X_validation, y_validation):\n",
    "  \n",
    "\n",
    "    earlystop_callback = tf.keras.callbacks.EarlyStopping(monitor=\"accuracy\", min_delta=0.001, patience=patience)\n",
    "\n",
    "    # train model\n",
    "    history = model.fit(X_train,\n",
    "                        y_train,\n",
    "                        epochs=epochs,\n",
    "                        batch_size=batch_size,\n",
    "                        validation_data=(X_validation, y_validation),\n",
    "                        callbacks=[earlystop_callback])\n",
    "    return history\n"
   ]
  },
  {
   "cell_type": "markdown",
   "id": "a9af39ed",
   "metadata": {
    "papermill": {
     "duration": 0.016596,
     "end_time": "2022-03-27T13:46:03.707982",
     "exception": false,
     "start_time": "2022-03-27T13:46:03.691386",
     "status": "completed"
    },
    "tags": []
   },
   "source": [
    "## **5. Plot**"
   ]
  },
  {
   "cell_type": "code",
   "execution_count": 10,
   "id": "ed17d978",
   "metadata": {
    "_kg_hide-input": true,
    "execution": {
     "iopub.execute_input": "2022-03-27T13:46:03.751521Z",
     "iopub.status.busy": "2022-03-27T13:46:03.750448Z",
     "iopub.status.idle": "2022-03-27T13:46:03.752820Z",
     "shell.execute_reply": "2022-03-27T13:46:03.753291Z"
    },
    "papermill": {
     "duration": 0.028609,
     "end_time": "2022-03-27T13:46:03.753469",
     "exception": false,
     "start_time": "2022-03-27T13:46:03.724860",
     "status": "completed"
    },
    "tags": []
   },
   "outputs": [],
   "source": [
    "def plot_history(history):\n",
    "\n",
    "    fig, axs = plt.subplots(2)\n",
    "\n",
    "    # create accuracy subplot\n",
    "    axs[0].plot(history.history[\"accuracy\"], label=\"accuracy\")\n",
    "    axs[0].plot(history.history['val_accuracy'], label=\"val_accuracy\")\n",
    "    axs[0].set_ylabel(\"Accuracy\")\n",
    "    axs[0].legend(loc=\"lower right\")\n",
    "    axs[0].set_title(\"Accuracy evaluation\")\n",
    "    print('')\n",
    "    print('')\n",
    "    # create loss subplot\n",
    "    axs[1].plot(history.history[\"loss\"], label=\"loss\")\n",
    "    axs[1].plot(history.history['val_loss'], label=\"val_loss\")\n",
    "    axs[1].set_xlabel(\"Epoch\")\n",
    "    axs[1].set_ylabel(\"Loss\")\n",
    "    axs[1].legend(loc=\"upper right\")\n",
    "    axs[1].set_title(\"Loss evaluation\")\n",
    "\n",
    "    plt.show()"
   ]
  },
  {
   "cell_type": "markdown",
   "id": "f9f25342",
   "metadata": {
    "papermill": {
     "duration": 0.017521,
     "end_time": "2022-03-27T13:46:03.788676",
     "exception": false,
     "start_time": "2022-03-27T13:46:03.771155",
     "status": "completed"
    },
    "tags": []
   },
   "source": [
    "# **Build_Model_Collabrate_all function & Save**"
   ]
  },
  {
   "cell_type": "code",
   "execution_count": 11,
   "id": "52dc286a",
   "metadata": {
    "execution": {
     "iopub.execute_input": "2022-03-27T13:46:03.833145Z",
     "iopub.status.busy": "2022-03-27T13:46:03.832424Z",
     "iopub.status.idle": "2022-03-27T13:46:03.834470Z",
     "shell.execute_reply": "2022-03-27T13:46:03.835071Z"
    },
    "papermill": {
     "duration": 0.02866,
     "end_time": "2022-03-27T13:46:03.835239",
     "exception": false,
     "start_time": "2022-03-27T13:46:03.806579",
     "status": "completed"
    },
    "tags": []
   },
   "outputs": [],
   "source": [
    "def Build_Model():\n",
    "    # generate train, validation and test sets\n",
    "    X_train, y_train, X_validation, y_validation, X_test, y_test = prepare_dataset(DATA_PATH)\n",
    "\n",
    "    # create network\n",
    "    input_shape = (X_train.shape[1], X_train.shape[2], 1)\n",
    "    model = build_model(input_shape, learning_rate=LEARNING_RATE)\n",
    "\n",
    "    # train network\n",
    "    history = train(model, EPOCHS, BATCH_SIZE, PATIENCE, X_train, y_train, X_validation, y_validation)\n",
    "\n",
    "    # plot accuracy/loss for training/validation set as a function of the epochs\n",
    "    plot_history(history)\n",
    "\n",
    "    # evaluate network on test set\n",
    "    test_loss, test_acc = model.evaluate(X_test, y_test)\n",
    "    print(\"\\nTest loss: {}, test accuracy: {}\".format(test_loss, 100*test_acc))\n",
    "\n",
    "    # save model\n",
    "    model.save(SAVED_MODEL_PATH)\n",
    "\n",
    "   "
   ]
  },
  {
   "cell_type": "markdown",
   "id": "e69fbbac",
   "metadata": {
    "papermill": {
     "duration": 0.017798,
     "end_time": "2022-03-27T13:46:03.870279",
     "exception": false,
     "start_time": "2022-03-27T13:46:03.852481",
     "status": "completed"
    },
    "tags": []
   },
   "source": [
    "## **Initialize the Function|Save_Model.h5**"
   ]
  },
  {
   "cell_type": "code",
   "execution_count": 12,
   "id": "3de9a61f",
   "metadata": {
    "execution": {
     "iopub.execute_input": "2022-03-27T13:46:03.910666Z",
     "iopub.status.busy": "2022-03-27T13:46:03.909981Z",
     "iopub.status.idle": "2022-03-27T13:50:48.199319Z",
     "shell.execute_reply": "2022-03-27T13:50:48.198693Z"
    },
    "papermill": {
     "duration": 284.311857,
     "end_time": "2022-03-27T13:50:48.199485",
     "exception": false,
     "start_time": "2022-03-27T13:46:03.887628",
     "status": "completed"
    },
    "tags": []
   },
   "outputs": [
    {
     "name": "stdout",
     "output_type": "stream",
     "text": [
      "Training sets loaded!\n",
      "Model: \"sequential\"\n",
      "_________________________________________________________________\n",
      " Layer (type)                Output Shape              Param #   \n",
      "=================================================================\n",
      " conv2d (Conv2D)             (None, 42, 11, 64)        640       \n",
      "                                                                 \n",
      " batch_normalization (Batch  (None, 42, 11, 64)        256       \n",
      " Normalization)                                                  \n",
      "                                                                 \n",
      " max_pooling2d (MaxPooling2  (None, 21, 6, 64)         0         \n",
      " D)                                                              \n",
      "                                                                 \n",
      " conv2d_1 (Conv2D)           (None, 19, 4, 32)         18464     \n",
      "                                                                 \n",
      " batch_normalization_1 (Bat  (None, 19, 4, 32)         128       \n",
      " chNormalization)                                                \n",
      "                                                                 \n",
      " max_pooling2d_1 (MaxPoolin  (None, 10, 2, 32)         0         \n",
      " g2D)                                                            \n",
      "                                                                 \n",
      " conv2d_2 (Conv2D)           (None, 9, 1, 32)          4128      \n",
      "                                                                 \n",
      " batch_normalization_2 (Bat  (None, 9, 1, 32)          128       \n",
      " chNormalization)                                                \n",
      "                                                                 \n",
      " max_pooling2d_2 (MaxPoolin  (None, 5, 1, 32)          0         \n",
      " g2D)                                                            \n",
      "                                                                 \n",
      " flatten (Flatten)           (None, 160)               0         \n",
      "                                                                 \n",
      " dense (Dense)               (None, 64)                10304     \n",
      "                                                                 \n",
      " dense_1 (Dense)             (None, 4)                 260       \n",
      "                                                                 \n",
      "=================================================================\n",
      "Total params: 34308 (134.02 KB)\n",
      "Trainable params: 34052 (133.02 KB)\n",
      "Non-trainable params: 256 (1.00 KB)\n",
      "_________________________________________________________________\n",
      "Epoch 1/20\n",
      "55/55 [==============================] - 8s 99ms/step - loss: 0.8659 - accuracy: 0.7154 - val_loss: 4.9764 - val_accuracy: 0.4893\n",
      "Epoch 2/20\n",
      "55/55 [==============================] - 5s 94ms/step - loss: 0.4768 - accuracy: 0.8761 - val_loss: 1.1989 - val_accuracy: 0.6829\n",
      "Epoch 3/20\n",
      "55/55 [==============================] - 5s 94ms/step - loss: 0.3998 - accuracy: 0.8991 - val_loss: 0.4692 - val_accuracy: 0.8764\n",
      "Epoch 4/20\n",
      "55/55 [==============================] - 5s 95ms/step - loss: 0.3177 - accuracy: 0.9264 - val_loss: 0.5176 - val_accuracy: 0.8484\n",
      "Epoch 5/20\n",
      "55/55 [==============================] - 5s 94ms/step - loss: 0.3135 - accuracy: 0.9262 - val_loss: 0.4298 - val_accuracy: 0.8859\n",
      "Epoch 6/20\n",
      "55/55 [==============================] - 5s 95ms/step - loss: 0.2757 - accuracy: 0.9402 - val_loss: 0.3504 - val_accuracy: 0.9132\n",
      "Epoch 7/20\n",
      "55/55 [==============================] - 5s 94ms/step - loss: 0.2706 - accuracy: 0.9398 - val_loss: 0.4370 - val_accuracy: 0.8779\n",
      "Epoch 8/20\n",
      "55/55 [==============================] - 5s 95ms/step - loss: 0.2500 - accuracy: 0.9466 - val_loss: 0.3212 - val_accuracy: 0.9345\n",
      "Epoch 9/20\n",
      "55/55 [==============================] - 5s 95ms/step - loss: 0.2485 - accuracy: 0.9470 - val_loss: 0.3358 - val_accuracy: 0.9205\n",
      "Epoch 10/20\n",
      "55/55 [==============================] - 5s 94ms/step - loss: 0.2381 - accuracy: 0.9497 - val_loss: 0.4949 - val_accuracy: 0.8859\n",
      "Epoch 11/20\n",
      "55/55 [==============================] - 5s 94ms/step - loss: 0.2496 - accuracy: 0.9486 - val_loss: 0.4658 - val_accuracy: 0.8882\n",
      "Epoch 12/20\n",
      "55/55 [==============================] - 5s 96ms/step - loss: 0.2501 - accuracy: 0.9496 - val_loss: 0.6544 - val_accuracy: 0.8234\n",
      "\n",
      "\n"
     ]
    },
    {
     "data": {
      "image/png": "[encoded data removed]",
      "text/plain": [
       "<Figure size 640x480 with 2 Axes>"
      ]
     },
     "metadata": {},
     "output_type": "display_data"
    },
    {
     "name": "stdout",
     "output_type": "stream",
     "text": [
      "54/54 [==============================] - 1s 10ms/step - loss: 0.5917 - accuracy: 0.8428\n",
      "\n",
      "Test loss: 0.5916665196418762, test accuracy: 84.27562117576599\n"
     ]
    },
    {
     "name": "stderr",
     "output_type": "stream",
     "text": [
      "D:\\Anaconda\\anaconda3\\envs\\py3_TF2.0\\lib\\site-packages\\keras\\src\\engine\\training.py:3000: UserWarning: You are saving your model as an HDF5 file via `model.save()`. This file format is considered legacy. We recommend using instead the native Keras format, e.g. `model.save('my_model.keras')`.\n",
      "  saving_api.save_model(\n"
     ]
    }
   ],
   "source": [
    "Build_Model()"
   ]
  }
 ],
 "metadata": {
  "kernelspec": {
   "display_name": "Python 3 (ipykernel)",
   "language": "python",
   "name": "python3"
  },
  "language_info": {
   "codemirror_mode": {
    "name": "ipython",
    "version": 3
   },
   "file_extension": ".py",
   "mimetype": "text/x-python",
   "name": "python",
   "nbconvert_exporter": "python",
   "pygments_lexer": "ipython3",
   "version": "3.10.8"
  },
  "papermill": {
   "default_parameters": {},
   "duration": 311.035554,
   "end_time": "2022-03-27T13:50:58.131286",
   "environment_variables": {},
   "exception": null,
   "input_path": "__notebook__.ipynb",
   "output_path": "__notebook__.ipynb",
   "parameters": {},
   "start_time": "2022-03-27T13:45:47.095732",
   "version": "2.3.3"
  }
 },
 "nbformat": 4,
 "nbformat_minor": 5
}
