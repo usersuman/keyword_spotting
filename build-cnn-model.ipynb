{
 "cells": [
  {
   "cell_type": "markdown",
   "id": "f5ac2508",
   "metadata": {
    "papermill": {
     "duration": 0.01587,
     "end_time": "2022-03-27T13:45:57.184130",
     "exception": false,
     "start_time": "2022-03-27T13:45:57.168260",
     "status": "completed"
    },
    "tags": []
   },
   "source": [
    "# **Import Necessary Library**"
   ]
  },
  {
   "cell_type": "code",
   "execution_count": 1,
   "id": "a82d1d74",
   "metadata": {
    "execution": {
     "iopub.execute_input": "2022-03-27T13:45:57.220651Z",
     "iopub.status.busy": "2022-03-27T13:45:57.219487Z",
     "iopub.status.idle": "2022-03-27T13:46:03.286274Z",
     "shell.execute_reply": "2022-03-27T13:46:03.286798Z"
    },
    "papermill": {
     "duration": 6.086534,
     "end_time": "2022-03-27T13:46:03.287129",
     "exception": false,
     "start_time": "2022-03-27T13:45:57.200595",
     "status": "completed"
    },
    "tags": []
   },
   "outputs": [],
   "source": [
    "import json\n",
    "import numpy as np\n",
    "import tensorflow as tf\n",
    "import matplotlib.pyplot as plt\n",
    "from sklearn.model_selection import train_test_split"
   ]
  },
  {
   "cell_type": "markdown",
   "id": "dbc39cbf",
   "metadata": {
    "papermill": {
     "duration": 0.016562,
     "end_time": "2022-03-27T13:46:03.320228",
     "exception": false,
     "start_time": "2022-03-27T13:46:03.303666",
     "status": "completed"
    },
    "tags": []
   },
   "source": [
    "# **Build Model**"
   ]
  },
  {
   "cell_type": "code",
   "execution_count": 2,
   "id": "d758eaa6",
   "metadata": {
    "execution": {
     "iopub.execute_input": "2022-03-27T13:46:03.356199Z",
     "iopub.status.busy": "2022-03-27T13:46:03.355524Z",
     "iopub.status.idle": "2022-03-27T13:46:03.359541Z",
     "shell.execute_reply": "2022-03-27T13:46:03.360024Z"
    },
    "papermill": {
     "duration": 0.023496,
     "end_time": "2022-03-27T13:46:03.360202",
     "exception": false,
     "start_time": "2022-03-27T13:46:03.336706",
     "status": "completed"
    },
    "tags": []
   },
   "outputs": [],
   "source": [
    "DATA_PATH = \"control_keywords.json\"\n",
    "SAVED_MODEL_PATH = \"keyword_model_1.h5\"\n",
    "EPOCHS = 50\n",
    "BATCH_SIZE = 64\n",
    "PATIENCE = 5\n",
    "LEARNING_RATE = 0.001"
   ]
  },
  {
   "cell_type": "markdown",
   "id": "9964bfa9",
   "metadata": {
    "papermill": {
     "duration": 0.01636,
     "end_time": "2022-03-27T13:46:03.392984",
     "exception": false,
     "start_time": "2022-03-27T13:46:03.376624",
     "status": "completed"
    },
    "tags": []
   },
   "source": [
    "## **1. Load Data_Json File**"
   ]
  },
  {
   "cell_type": "code",
   "execution_count": 3,
   "id": "77533b60",
   "metadata": {
    "_kg_hide-input": true,
    "execution": {
     "iopub.execute_input": "2022-03-27T13:46:03.430458Z",
     "iopub.status.busy": "2022-03-27T13:46:03.429708Z",
     "iopub.status.idle": "2022-03-27T13:46:03.434577Z",
     "shell.execute_reply": "2022-03-27T13:46:03.435050Z"
    },
    "papermill": {
     "duration": 0.02556,
     "end_time": "2022-03-27T13:46:03.435222",
     "exception": false,
     "start_time": "2022-03-27T13:46:03.409662",
     "status": "completed"
    },
    "tags": []
   },
   "outputs": [],
   "source": [
    "def load_data(data_path):\n",
    "    \"\"\"Loads training dataset from json file.\n",
    "\n",
    "    :param data_path (str): Path to json file containing data\n",
    "    :return X (ndarray): Inputs\n",
    "    :return y (ndarray): Targets\n",
    "\n",
    "    \"\"\"\n",
    "    with open(data_path, \"r\") as fp:\n",
    "        data = json.load(fp)\n",
    "\n",
    "    X = np.array(data[\"MFCCs\"])\n",
    "    y = np.array(data[\"labels\"])\n",
    "    print(\"Training sets loaded!\")\n",
    "    return X, y\n"
   ]
  },
  {
   "cell_type": "markdown",
   "id": "2c08c881",
   "metadata": {
    "papermill": {
     "duration": 0.016862,
     "end_time": "2022-03-27T13:46:03.468635",
     "exception": false,
     "start_time": "2022-03-27T13:46:03.451773",
     "status": "completed"
    },
    "tags": []
   },
   "source": [
    "## **2. Split_Data**"
   ]
  },
  {
   "cell_type": "code",
   "execution_count": 4,
   "id": "43dfde37",
   "metadata": {
    "_kg_hide-input": true,
    "execution": {
     "iopub.execute_input": "2022-03-27T13:46:03.505953Z",
     "iopub.status.busy": "2022-03-27T13:46:03.505289Z",
     "iopub.status.idle": "2022-03-27T13:46:03.511030Z",
     "shell.execute_reply": "2022-03-27T13:46:03.511530Z"
    },
    "papermill": {
     "duration": 0.025711,
     "end_time": "2022-03-27T13:46:03.511713",
     "exception": false,
     "start_time": "2022-03-27T13:46:03.486002",
     "status": "completed"
    },
    "tags": []
   },
   "outputs": [],
   "source": [
    "def prepare_dataset(data_path, test_size=0.2, validation_size=0.2):\n",
    "\n",
    "    # load dataset\n",
    "    X, y = load_data(data_path)\n",
    "\n",
    "    # create train, validation, test split\n",
    "    X_train, X_test, y_train, y_test = train_test_split(X, y, test_size=test_size)\n",
    "    X_train, X_validation, y_train, y_validation = train_test_split(X_train, y_train, test_size=validation_size)\n",
    "\n",
    "    # add an axis to nd array\n",
    "    X_train = X_train[..., np.newaxis]\n",
    "    X_test = X_test[..., np.newaxis]\n",
    "    X_validation = X_validation[..., np.newaxis]\n",
    "\n",
    "    return X_train, y_train, X_validation, y_validation, X_test, y_test\n",
    "\n"
   ]
  },
  {
   "cell_type": "markdown",
   "id": "8ee398ca",
   "metadata": {
    "papermill": {
     "duration": 0.016265,
     "end_time": "2022-03-27T13:46:03.545266",
     "exception": false,
     "start_time": "2022-03-27T13:46:03.529001",
     "status": "completed"
    },
    "tags": []
   },
   "source": [
    "## **3. Build_Model_CNN-Architect**"
   ]
  },
  {
   "cell_type": "code",
   "execution_count": 5,
   "id": "104df81f",
   "metadata": {
    "_kg_hide-input": true,
    "execution": {
     "iopub.execute_input": "2022-03-27T13:46:03.582205Z",
     "iopub.status.busy": "2022-03-27T13:46:03.581470Z",
     "iopub.status.idle": "2022-03-27T13:46:03.596124Z",
     "shell.execute_reply": "2022-03-27T13:46:03.595421Z"
    },
    "papermill": {
     "duration": 0.034437,
     "end_time": "2022-03-27T13:46:03.596299",
     "exception": false,
     "start_time": "2022-03-27T13:46:03.561862",
     "status": "completed"
    },
    "tags": []
   },
   "outputs": [],
   "source": [
    "def build_model(input_shape, loss=\"sparse_categorical_crossentropy\", learning_rate=0.001):\n",
    "\n",
    "    # build network architecture using convolutional layers\n",
    "    model = tf.keras.models.Sequential()\n",
    "\n",
    "    # 1st conv layer\n",
    "    model.add(tf.keras.layers.Conv2D(64, (3, 3), activation='relu', input_shape=input_shape,\n",
    "                                     kernel_regularizer=tf.keras.regularizers.l2(0.001)))\n",
    "    model.add(tf.keras.layers.BatchNormalization())\n",
    "    model.add(tf.keras.layers.MaxPooling2D((3, 3), strides=(2,2), padding='same'))\n",
    "\n",
    "    # 2nd conv layer\n",
    "    model.add(tf.keras.layers.Conv2D(32, (3, 3), activation='relu',\n",
    "                                     kernel_regularizer=tf.keras.regularizers.l2(0.001)))\n",
    "    model.add(tf.keras.layers.BatchNormalization())\n",
    "    model.add(tf.keras.layers.MaxPooling2D((3, 3), strides=(2,2), padding='same'))\n",
    "\n",
    "    # 3rd conv layer\n",
    "    model.add(tf.keras.layers.Conv2D(32, (2, 2), activation='relu',\n",
    "                                     kernel_regularizer=tf.keras.regularizers.l2(0.001)))\n",
    "    model.add(tf.keras.layers.BatchNormalization())\n",
    "    model.add(tf.keras.layers.MaxPooling2D((2, 2), strides=(2,2), padding='same'))\n",
    "\n",
    "    # flatten output and feed into dense layer\n",
    "    model.add(tf.keras.layers.Flatten())\n",
    "    model.add(tf.keras.layers.Dense(64, activation='relu'))\n",
    "    tf.keras.layers.Dropout(0.3)\n",
    "\n",
    "    # softmax output layer\n",
    "    model.add(tf.keras.layers.Dense(4, activation='softmax'))\n",
    "\n",
    "    optimiser = tf.optimizers.Adam(learning_rate=learning_rate)\n",
    "\n",
    "    # compile model\n",
    "    model.compile(optimizer=optimiser,\n",
    "                  loss=loss,\n",
    "                  metrics=[\"accuracy\"])\n",
    "\n",
    "    # print model parameters on console\n",
    "    model.summary()\n",
    "\n",
    "    return model\n"
   ]
  },
  {
   "cell_type": "markdown",
   "id": "f15b35bf",
   "metadata": {
    "papermill": {
     "duration": 0.017725,
     "end_time": "2022-03-27T13:46:03.630786",
     "exception": false,
     "start_time": "2022-03-27T13:46:03.613061",
     "status": "completed"
    },
    "tags": []
   },
   "source": [
    "## **4. Train_Model**"
   ]
  },
  {
   "cell_type": "code",
   "execution_count": 6,
   "id": "77cffa64",
   "metadata": {
    "_kg_hide-input": true,
    "execution": {
     "iopub.execute_input": "2022-03-27T13:46:03.672532Z",
     "iopub.status.busy": "2022-03-27T13:46:03.671577Z",
     "iopub.status.idle": "2022-03-27T13:46:03.673824Z",
     "shell.execute_reply": "2022-03-27T13:46:03.674321Z"
    },
    "papermill": {
     "duration": 0.027039,
     "end_time": "2022-03-27T13:46:03.674494",
     "exception": false,
     "start_time": "2022-03-27T13:46:03.647455",
     "status": "completed"
    },
    "tags": []
   },
   "outputs": [],
   "source": [
    "def train(model, epochs, batch_size, patience, X_train, y_train, X_validation, y_validation):\n",
    "  \n",
    "\n",
    "    earlystop_callback = tf.keras.callbacks.EarlyStopping(monitor=\"accuracy\", min_delta=0.001, patience=patience)\n",
    "\n",
    "    # train model\n",
    "    history = model.fit(X_train,\n",
    "                        y_train,\n",
    "                        epochs=epochs,\n",
    "                        batch_size=batch_size,\n",
    "                        validation_data=(X_validation, y_validation),\n",
    "                        callbacks=[earlystop_callback])\n",
    "    return history\n"
   ]
  },
  {
   "cell_type": "markdown",
   "id": "a9af39ed",
   "metadata": {
    "papermill": {
     "duration": 0.016596,
     "end_time": "2022-03-27T13:46:03.707982",
     "exception": false,
     "start_time": "2022-03-27T13:46:03.691386",
     "status": "completed"
    },
    "tags": []
   },
   "source": [
    "## **5. Plot**"
   ]
  },
  {
   "cell_type": "code",
   "execution_count": 7,
   "id": "ed17d978",
   "metadata": {
    "_kg_hide-input": true,
    "execution": {
     "iopub.execute_input": "2022-03-27T13:46:03.751521Z",
     "iopub.status.busy": "2022-03-27T13:46:03.750448Z",
     "iopub.status.idle": "2022-03-27T13:46:03.752820Z",
     "shell.execute_reply": "2022-03-27T13:46:03.753291Z"
    },
    "papermill": {
     "duration": 0.028609,
     "end_time": "2022-03-27T13:46:03.753469",
     "exception": false,
     "start_time": "2022-03-27T13:46:03.724860",
     "status": "completed"
    },
    "tags": []
   },
   "outputs": [],
   "source": [
    "def plot_history(history):\n",
    "\n",
    "    fig, axs = plt.subplots(2)\n",
    "\n",
    "    # create accuracy subplot\n",
    "    axs[0].plot(history.history[\"accuracy\"], label=\"accuracy\")\n",
    "    axs[0].plot(history.history['val_accuracy'], label=\"val_accuracy\")\n",
    "    axs[0].set_ylabel(\"Accuracy\")\n",
    "    axs[0].legend(loc=\"lower right\")\n",
    "    axs[0].set_title(\"Accuracy evaluation\")\n",
    "    print('')\n",
    "    print('')\n",
    "    # create loss subplot\n",
    "    axs[1].plot(history.history[\"loss\"], label=\"loss\")\n",
    "    axs[1].plot(history.history['val_loss'], label=\"val_loss\")\n",
    "    axs[1].set_xlabel(\"Epoch\")\n",
    "    axs[1].set_ylabel(\"Loss\")\n",
    "    axs[1].legend(loc=\"upper right\")\n",
    "    axs[1].set_title(\"Loss evaluation\")\n",
    "\n",
    "    plt.show()"
   ]
  },
  {
   "cell_type": "markdown",
   "id": "f9f25342",
   "metadata": {
    "papermill": {
     "duration": 0.017521,
     "end_time": "2022-03-27T13:46:03.788676",
     "exception": false,
     "start_time": "2022-03-27T13:46:03.771155",
     "status": "completed"
    },
    "tags": []
   },
   "source": [
    "# **Build_Model_Collabrate_all function & Save**"
   ]
  },
  {
   "cell_type": "code",
   "execution_count": 8,
   "id": "52dc286a",
   "metadata": {
    "execution": {
     "iopub.execute_input": "2022-03-27T13:46:03.833145Z",
     "iopub.status.busy": "2022-03-27T13:46:03.832424Z",
     "iopub.status.idle": "2022-03-27T13:46:03.834470Z",
     "shell.execute_reply": "2022-03-27T13:46:03.835071Z"
    },
    "papermill": {
     "duration": 0.02866,
     "end_time": "2022-03-27T13:46:03.835239",
     "exception": false,
     "start_time": "2022-03-27T13:46:03.806579",
     "status": "completed"
    },
    "tags": []
   },
   "outputs": [],
   "source": [
    "def Build_Model():\n",
    "    # generate train, validation and test sets\n",
    "    X_train, y_train, X_validation, y_validation, X_test, y_test = prepare_dataset(DATA_PATH)\n",
    "\n",
    "    # create network\n",
    "    input_shape = (X_train.shape[1], X_train.shape[2], 1)\n",
    "    model = build_model(input_shape, learning_rate=LEARNING_RATE)\n",
    "\n",
    "    # train network\n",
    "    history = train(model, EPOCHS, BATCH_SIZE, PATIENCE, X_train, y_train, X_validation, y_validation)\n",
    "\n",
    "    # plot accuracy/loss for training/validation set as a function of the epochs\n",
    "    plot_history(history)\n",
    "\n",
    "    # evaluate network on test set\n",
    "    test_loss, test_acc = model.evaluate(X_test, y_test)\n",
    "    print(\"\\nTest loss: {}, test accuracy: {}\".format(test_loss, 100*test_acc))\n",
    "\n",
    "    # save model\n",
    "    model.save(SAVED_MODEL_PATH)\n",
    "\n",
    "   "
   ]
  },
  {
   "cell_type": "markdown",
   "id": "e69fbbac",
   "metadata": {
    "papermill": {
     "duration": 0.017798,
     "end_time": "2022-03-27T13:46:03.870279",
     "exception": false,
     "start_time": "2022-03-27T13:46:03.852481",
     "status": "completed"
    },
    "tags": []
   },
   "source": [
    "## **Initialize the Function|Save_Model.h5**"
   ]
  },
  {
   "cell_type": "code",
   "execution_count": 9,
   "id": "3de9a61f",
   "metadata": {
    "execution": {
     "iopub.execute_input": "2022-03-27T13:46:03.910666Z",
     "iopub.status.busy": "2022-03-27T13:46:03.909981Z",
     "iopub.status.idle": "2022-03-27T13:50:48.199319Z",
     "shell.execute_reply": "2022-03-27T13:50:48.198693Z"
    },
    "papermill": {
     "duration": 284.311857,
     "end_time": "2022-03-27T13:50:48.199485",
     "exception": false,
     "start_time": "2022-03-27T13:46:03.887628",
     "status": "completed"
    },
    "tags": []
   },
   "outputs": [
    {
     "name": "stdout",
     "output_type": "stream",
     "text": [
      "Training sets loaded!\n",
      "Model: \"sequential\"\n",
      "_________________________________________________________________\n",
      " Layer (type)                Output Shape              Param #   \n",
      "=================================================================\n",
      " conv2d (Conv2D)             (None, 42, 11, 64)        640       \n",
      "                                                                 \n",
      " batch_normalization (Batch  (None, 42, 11, 64)        256       \n",
      " Normalization)                                                  \n",
      "                                                                 \n",
      " max_pooling2d (MaxPooling2  (None, 21, 6, 64)         0         \n",
      " D)                                                              \n",
      "                                                                 \n",
      " conv2d_1 (Conv2D)           (None, 19, 4, 32)         18464     \n",
      "                                                                 \n",
      " batch_normalization_1 (Bat  (None, 19, 4, 32)         128       \n",
      " chNormalization)                                                \n",
      "                                                                 \n",
      " max_pooling2d_1 (MaxPoolin  (None, 10, 2, 32)         0         \n",
      " g2D)                                                            \n",
      "                                                                 \n",
      " conv2d_2 (Conv2D)           (None, 9, 1, 32)          4128      \n",
      "                                                                 \n",
      " batch_normalization_2 (Bat  (None, 9, 1, 32)          128       \n",
      " chNormalization)                                                \n",
      "                                                                 \n",
      " max_pooling2d_2 (MaxPoolin  (None, 5, 1, 32)          0         \n",
      " g2D)                                                            \n",
      "                                                                 \n",
      " flatten (Flatten)           (None, 160)               0         \n",
      "                                                                 \n",
      " dense (Dense)               (None, 64)                10304     \n",
      "                                                                 \n",
      " dense_1 (Dense)             (None, 4)                 260       \n",
      "                                                                 \n",
      "=================================================================\n",
      "Total params: 34308 (134.02 KB)\n",
      "Trainable params: 34052 (133.02 KB)\n",
      "Non-trainable params: 256 (1.00 KB)\n",
      "_________________________________________________________________\n",
      "Epoch 1/50\n",
      "85/85 [==============================] - 10s 73ms/step - loss: 0.8806 - accuracy: 0.6736 - val_loss: 1.5577 - val_accuracy: 0.5320\n",
      "Epoch 2/50\n",
      "85/85 [==============================] - 6s 64ms/step - loss: 0.4050 - accuracy: 0.8851 - val_loss: 0.9759 - val_accuracy: 0.6593\n",
      "Epoch 3/50\n",
      "85/85 [==============================] - 6s 65ms/step - loss: 0.2986 - accuracy: 0.9197 - val_loss: 0.5186 - val_accuracy: 0.8330\n",
      "Epoch 4/50\n",
      "85/85 [==============================] - 6s 67ms/step - loss: 0.2470 - accuracy: 0.9383 - val_loss: 0.3552 - val_accuracy: 0.8962\n",
      "Epoch 5/50\n",
      "85/85 [==============================] - 5s 65ms/step - loss: 0.2197 - accuracy: 0.9472 - val_loss: 0.2563 - val_accuracy: 0.9367\n",
      "Epoch 6/50\n",
      "85/85 [==============================] - 6s 66ms/step - loss: 0.1879 - accuracy: 0.9597 - val_loss: 0.2325 - val_accuracy: 0.9448\n",
      "Epoch 7/50\n",
      "85/85 [==============================] - 6s 69ms/step - loss: 0.1741 - accuracy: 0.9617 - val_loss: 0.4425 - val_accuracy: 0.8690\n",
      "Epoch 8/50\n",
      "85/85 [==============================] - 6s 73ms/step - loss: 0.1669 - accuracy: 0.9650 - val_loss: 0.2301 - val_accuracy: 0.9463\n",
      "Epoch 9/50\n",
      "85/85 [==============================] - 6s 72ms/step - loss: 0.1438 - accuracy: 0.9724 - val_loss: 0.3141 - val_accuracy: 0.9146\n",
      "Epoch 10/50\n",
      "85/85 [==============================] - 6s 72ms/step - loss: 0.1375 - accuracy: 0.9740 - val_loss: 0.2265 - val_accuracy: 0.9433\n",
      "Epoch 11/50\n",
      "85/85 [==============================] - 6s 73ms/step - loss: 0.1263 - accuracy: 0.9786 - val_loss: 0.3401 - val_accuracy: 0.9095\n",
      "Epoch 12/50\n",
      "85/85 [==============================] - 6s 71ms/step - loss: 0.1269 - accuracy: 0.9764 - val_loss: 0.2554 - val_accuracy: 0.9330\n",
      "Epoch 13/50\n",
      "85/85 [==============================] - 6s 71ms/step - loss: 0.1189 - accuracy: 0.9810 - val_loss: 0.3374 - val_accuracy: 0.9110\n",
      "Epoch 14/50\n",
      "85/85 [==============================] - 6s 70ms/step - loss: 0.1085 - accuracy: 0.9829 - val_loss: 0.2584 - val_accuracy: 0.9316\n",
      "Epoch 15/50\n",
      "85/85 [==============================] - 6s 75ms/step - loss: 0.1091 - accuracy: 0.9834 - val_loss: 0.2221 - val_accuracy: 0.9507\n",
      "Epoch 16/50\n",
      "85/85 [==============================] - 6s 71ms/step - loss: 0.0923 - accuracy: 0.9895 - val_loss: 0.2618 - val_accuracy: 0.9426\n",
      "Epoch 17/50\n",
      "85/85 [==============================] - 6s 71ms/step - loss: 0.0975 - accuracy: 0.9862 - val_loss: 0.2159 - val_accuracy: 0.9500\n",
      "Epoch 18/50\n",
      "85/85 [==============================] - 6s 71ms/step - loss: 0.0899 - accuracy: 0.9886 - val_loss: 0.3214 - val_accuracy: 0.9110\n",
      "Epoch 19/50\n",
      "85/85 [==============================] - 6s 70ms/step - loss: 0.0864 - accuracy: 0.9888 - val_loss: 0.2173 - val_accuracy: 0.9529\n",
      "Epoch 20/50\n",
      "85/85 [==============================] - 6s 72ms/step - loss: 0.0892 - accuracy: 0.9871 - val_loss: 0.2666 - val_accuracy: 0.9279\n",
      "Epoch 21/50\n",
      "85/85 [==============================] - 6s 70ms/step - loss: 0.0982 - accuracy: 0.9847 - val_loss: 0.2656 - val_accuracy: 0.9375\n",
      "\n",
      "\n"
     ]
    },
    {
     "data": {
      "image/png": "[encoded data removed]",
      "text/plain": [
       "<Figure size 640x480 with 2 Axes>"
      ]
     },
     "metadata": {},
     "output_type": "display_data"
    },
    {
     "name": "stdout",
     "output_type": "stream",
     "text": [
      "54/54 [==============================] - 1s 11ms/step - loss: 0.3075 - accuracy: 0.9234\n",
      "\n",
      "Test loss: 0.30747970938682556, test accuracy: 92.34393239021301\n"
     ]
    },
    {
     "name": "stderr",
     "output_type": "stream",
     "text": [
      "D:\\Anaconda\\anaconda3\\envs\\py3_TF2.0\\lib\\site-packages\\keras\\src\\engine\\training.py:3000: UserWarning: You are saving your model as an HDF5 file via `model.save()`. This file format is considered legacy. We recommend using instead the native Keras format, e.g. `model.save('my_model.keras')`.\n",
      "  saving_api.save_model(\n"
     ]
    }
   ],
   "source": [
    "Build_Model()"
   ]
  },
  {
   "cell_type": "code",
   "execution_count": null,
   "id": "f7c2a112",
   "metadata": {},
   "outputs": [],
   "source": []
  }
 ],
 "metadata": {
  "kernelspec": {
   "display_name": "Python 3 (ipykernel)",
   "language": "python",
   "name": "python3"
  },
  "language_info": {
   "codemirror_mode": {
    "name": "ipython",
    "version": 3
   },
   "file_extension": ".py",
   "mimetype": "text/x-python",
   "name": "python",
   "nbconvert_exporter": "python",
   "pygments_lexer": "ipython3",
   "version": "3.10.8"
  },
  "papermill": {
   "default_parameters": {},
   "duration": 311.035554,
   "end_time": "2022-03-27T13:50:58.131286",
   "environment_variables": {},
   "exception": null,
   "input_path": "__notebook__.ipynb",
   "output_path": "__notebook__.ipynb",
   "parameters": {},
   "start_time": "2022-03-27T13:45:47.095732",
   "version": "2.3.3"
  }
 },
 "nbformat": 4,
 "nbformat_minor": 5
}
