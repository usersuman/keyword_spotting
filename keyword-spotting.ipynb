{
 "cells": [
  {
   "cell_type": "markdown",
   "id": "eaaa0496",
   "metadata": {
    "papermill": {
     "duration": 0.009655,
     "end_time": "2022-03-30T04:56:17.548139",
     "exception": false,
     "start_time": "2022-03-30T04:56:17.538484",
     "status": "completed"
    },
    "tags": []
   },
   "source": [
    "# **1. Load Necessary Library**"
   ]
  },
  {
   "cell_type": "code",
   "execution_count": 1,
   "id": "9feab982",
   "metadata": {
    "execution": {
     "iopub.execute_input": "2022-03-30T04:56:17.572222Z",
     "iopub.status.busy": "2022-03-30T04:56:17.570991Z",
     "iopub.status.idle": "2022-03-30T04:56:25.148538Z",
     "shell.execute_reply": "2022-03-30T04:56:25.147849Z",
     "shell.execute_reply.started": "2022-03-28T06:21:36.824849Z"
    },
    "papermill": {
     "duration": 7.590562,
     "end_time": "2022-03-30T04:56:25.148763",
     "exception": false,
     "start_time": "2022-03-30T04:56:17.558201",
     "status": "completed"
    },
    "tags": []
   },
   "outputs": [],
   "source": [
    "import librosa\n",
    "import tensorflow as tf\n",
    "import numpy as np\n",
    "\n",
    "SAVED_MODEL_PATH = \"./keyword_model_1.h5\"\n",
    "SAMPLES_TO_CONSIDER = 22050"
   ]
  },
  {
   "cell_type": "markdown",
   "id": "e9fe35a6",
   "metadata": {
    "papermill": {
     "duration": 0.010055,
     "end_time": "2022-03-30T04:56:25.169001",
     "exception": false,
     "start_time": "2022-03-30T04:56:25.158946",
     "status": "completed"
    },
    "tags": []
   },
   "source": [
    "# **2. Build Keyword spotting Function**"
   ]
  },
  {
   "cell_type": "code",
   "execution_count": 2,
   "id": "e61b1a82",
   "metadata": {
    "_kg_hide-input": true,
    "execution": {
     "iopub.execute_input": "2022-03-30T04:56:25.200108Z",
     "iopub.status.busy": "2022-03-30T04:56:25.199405Z",
     "iopub.status.idle": "2022-03-30T04:56:25.201730Z",
     "shell.execute_reply": "2022-03-30T04:56:25.202212Z",
     "shell.execute_reply.started": "2022-03-28T05:59:50.521896Z"
    },
    "papermill": {
     "duration": 0.02303,
     "end_time": "2022-03-30T04:56:25.202368",
     "exception": false,
     "start_time": "2022-03-30T04:56:25.179338",
     "status": "completed"
    },
    "tags": []
   },
   "outputs": [],
   "source": [
    "class _Keyword_Spotting_Service:\n",
    "\n",
    "    model = None\n",
    "    _mapping = [\n",
    "        \"down\",\n",
    "        \"go\",\n",
    "        \"stop\",\n",
    "        \"up\"\n",
    "            ]\n",
    "    _instance = None\n",
    "\n",
    "\n",
    "    def predict(self, file_path):\n",
    "\n",
    "        # extract MFCC\n",
    "        MFCCs = self.preprocess(file_path)\n",
    "\n",
    "        # we need a 4-dim array to feed to the model for prediction: (# samples, # time steps, # coefficients, 1)\n",
    "        MFCCs = MFCCs[np.newaxis, ..., np.newaxis]\n",
    "\n",
    "        # get the predicted label\n",
    "        predictions = self.model.predict(MFCCs)\n",
    "        predicted_index = np.argmax(predictions)\n",
    "        predicted_keyword = self._mapping[predicted_index]\n",
    "        return predicted_keyword\n",
    "\n",
    "\n",
    "    def preprocess(self, file_path, num_mfcc=13, n_fft=2048, hop_length=512):\n",
    "        # load audio file\n",
    "        signal, sample_rate = librosa.load(file_path)\n",
    "\n",
    "        if len(signal) >= SAMPLES_TO_CONSIDER:\n",
    "            # ensure consistency of the length of the signal\n",
    "            signal = signal[:SAMPLES_TO_CONSIDER]\n",
    "\n",
    "            # extract MFCCs\n",
    "            MFCCs = librosa.feature.mfcc(y=signal, sr=sample_rate, n_mfcc=num_mfcc, n_fft=n_fft,\n",
    "                                         hop_length=hop_length)\n",
    "        return MFCCs.T\n",
    "\n"
   ]
  },
  {
   "cell_type": "code",
   "execution_count": 3,
   "id": "f7dd8a5b",
   "metadata": {
    "_kg_hide-input": true,
    "execution": {
     "iopub.execute_input": "2022-03-30T04:56:25.226015Z",
     "iopub.status.busy": "2022-03-30T04:56:25.225366Z",
     "iopub.status.idle": "2022-03-30T04:56:25.229516Z",
     "shell.execute_reply": "2022-03-30T04:56:25.230049Z",
     "shell.execute_reply.started": "2022-03-28T05:59:50.534101Z"
    },
    "papermill": {
     "duration": 0.017712,
     "end_time": "2022-03-30T04:56:25.230209",
     "exception": false,
     "start_time": "2022-03-30T04:56:25.212497",
     "status": "completed"
    },
    "tags": []
   },
   "outputs": [],
   "source": [
    "def Keyword_Spotting_Service():\n",
    "\n",
    "    # ensure an instance is created only the first time the factory function is called\n",
    "    if _Keyword_Spotting_Service._instance is None:\n",
    "        _Keyword_Spotting_Service._instance = _Keyword_Spotting_Service()\n",
    "        _Keyword_Spotting_Service.model = tf.keras.models.load_model(SAVED_MODEL_PATH)\n",
    "    return _Keyword_Spotting_Service._instance"
   ]
  },
  {
   "cell_type": "markdown",
   "id": "c65d607a",
   "metadata": {
    "papermill": {
     "duration": 0.010467,
     "end_time": "2022-03-30T04:56:25.251039",
     "exception": false,
     "start_time": "2022-03-30T04:56:25.240572",
     "status": "completed"
    },
    "tags": []
   },
   "source": [
    "# **3.Prediction**"
   ]
  },
  {
   "cell_type": "code",
   "execution_count": 4,
   "id": "9b94b3c7",
   "metadata": {
    "_kg_hide-input": true,
    "execution": {
     "iopub.execute_input": "2022-03-30T04:56:25.275744Z",
     "iopub.status.busy": "2022-03-30T04:56:25.275065Z",
     "iopub.status.idle": "2022-03-30T04:56:28.475493Z",
     "shell.execute_reply": "2022-03-30T04:56:28.477039Z",
     "shell.execute_reply.started": "2022-03-28T06:07:13.091654Z"
    },
    "papermill": {
     "duration": 3.215845,
     "end_time": "2022-03-30T04:56:28.477506",
     "exception": false,
     "start_time": "2022-03-30T04:56:25.261661",
     "status": "completed"
    },
    "tags": []
   },
   "outputs": [],
   "source": [
    "# create 2 instances of the keyword spotting service\n",
    "kss = Keyword_Spotting_Service()\n",
    "kss1 = Keyword_Spotting_Service()\n",
    "# check that different instances of the keyword spotting service point back to the same object (singleton)\n",
    "assert kss is kss1"
   ]
  },
  {
   "cell_type": "code",
   "execution_count": 6,
   "id": "9a73cb14",
   "metadata": {
    "papermill": {
     "duration": 0.011513,
     "end_time": "2022-03-30T04:56:28.545769",
     "exception": false,
     "start_time": "2022-03-30T04:56:28.534256",
     "status": "completed"
    },
    "tags": []
   },
   "outputs": [
    {
     "data": {
      "text/html": [
       "<div>\n",
       "<style scoped>\n",
       "    .dataframe tbody tr th:only-of-type {\n",
       "        vertical-align: middle;\n",
       "    }\n",
       "\n",
       "    .dataframe tbody tr th {\n",
       "        vertical-align: top;\n",
       "    }\n",
       "\n",
       "    .dataframe thead th {\n",
       "        text-align: right;\n",
       "    }\n",
       "</style>\n",
       "<table border=\"1\" class=\"dataframe\">\n",
       "  <thead>\n",
       "    <tr style=\"text-align: right;\">\n",
       "      <th></th>\n",
       "      <th>file_name</th>\n",
       "      <th>key</th>\n",
       "    </tr>\n",
       "  </thead>\n",
       "  <tbody>\n",
       "    <tr>\n",
       "      <th>0</th>\n",
       "      <td>./inputs/Voice 001.wav</td>\n",
       "      <td>up</td>\n",
       "    </tr>\n",
       "    <tr>\n",
       "      <th>1</th>\n",
       "      <td>./inputs/Voice 002.wav</td>\n",
       "      <td>down</td>\n",
       "    </tr>\n",
       "    <tr>\n",
       "      <th>2</th>\n",
       "      <td>./inputs/Voice 003.wav</td>\n",
       "      <td>up</td>\n",
       "    </tr>\n",
       "    <tr>\n",
       "      <th>3</th>\n",
       "      <td>./inputs/Voice 004.wav</td>\n",
       "      <td>up</td>\n",
       "    </tr>\n",
       "    <tr>\n",
       "      <th>4</th>\n",
       "      <td>./inputs/Voice 005.wav</td>\n",
       "      <td>stop</td>\n",
       "    </tr>\n",
       "    <tr>\n",
       "      <th>5</th>\n",
       "      <td>./inputs/Voice 006.wav</td>\n",
       "      <td>go</td>\n",
       "    </tr>\n",
       "    <tr>\n",
       "      <th>6</th>\n",
       "      <td>./inputs/Voice 007.wav</td>\n",
       "      <td>stop</td>\n",
       "    </tr>\n",
       "    <tr>\n",
       "      <th>7</th>\n",
       "      <td>./inputs/Voice 008.wav</td>\n",
       "      <td>stop</td>\n",
       "    </tr>\n",
       "    <tr>\n",
       "      <th>8</th>\n",
       "      <td>./inputs/Voice 009.wav</td>\n",
       "      <td>go</td>\n",
       "    </tr>\n",
       "    <tr>\n",
       "      <th>9</th>\n",
       "      <td>./inputs/Voice 010.wav</td>\n",
       "      <td>down</td>\n",
       "    </tr>\n",
       "  </tbody>\n",
       "</table>\n",
       "</div>"
      ],
      "text/plain": [
       "                file_name   key\n",
       "0  ./inputs/Voice 001.wav    up\n",
       "1  ./inputs/Voice 002.wav  down\n",
       "2  ./inputs/Voice 003.wav    up\n",
       "3  ./inputs/Voice 004.wav    up\n",
       "4  ./inputs/Voice 005.wav  stop\n",
       "5  ./inputs/Voice 006.wav    go\n",
       "6  ./inputs/Voice 007.wav  stop\n",
       "7  ./inputs/Voice 008.wav  stop\n",
       "8  ./inputs/Voice 009.wav    go\n",
       "9  ./inputs/Voice 010.wav  down"
      ]
     },
     "execution_count": 6,
     "metadata": {},
     "output_type": "execute_result"
    }
   ],
   "source": [
    "import pandas\n",
    "data=pandas.read_csv('key_audio_2.csv')\n",
    "data"
   ]
  },
  {
   "cell_type": "code",
   "execution_count": 7,
   "id": "2e87a254",
   "metadata": {},
   "outputs": [
    {
     "name": "stdout",
     "output_type": "stream",
     "text": [
      "1/1 [==============================] - 0s 244ms/step\n",
      "1/1 [==============================] - 0s 12ms/step\n",
      "1/1 [==============================] - 0s 33ms/step\n",
      "1/1 [==============================] - 0s 32ms/step\n",
      "1/1 [==============================] - 0s 18ms/step\n",
      "1/1 [==============================] - 0s 5ms/step\n",
      "1/1 [==============================] - 0s 9ms/step\n",
      "1/1 [==============================] - 0s 13ms/step\n",
      "1/1 [==============================] - 0s 3ms/step\n",
      "1/1 [==============================] - 0s 9ms/step\n"
     ]
    },
    {
     "data": {
      "text/html": [
       "<div>\n",
       "<style scoped>\n",
       "    .dataframe tbody tr th:only-of-type {\n",
       "        vertical-align: middle;\n",
       "    }\n",
       "\n",
       "    .dataframe tbody tr th {\n",
       "        vertical-align: top;\n",
       "    }\n",
       "\n",
       "    .dataframe thead th {\n",
       "        text-align: right;\n",
       "    }\n",
       "</style>\n",
       "<table border=\"1\" class=\"dataframe\">\n",
       "  <thead>\n",
       "    <tr style=\"text-align: right;\">\n",
       "      <th></th>\n",
       "      <th>file_name</th>\n",
       "      <th>key</th>\n",
       "      <th>prediction</th>\n",
       "    </tr>\n",
       "  </thead>\n",
       "  <tbody>\n",
       "    <tr>\n",
       "      <th>0</th>\n",
       "      <td>./inputs/Voice 001.wav</td>\n",
       "      <td>up</td>\n",
       "      <td>go</td>\n",
       "    </tr>\n",
       "    <tr>\n",
       "      <th>1</th>\n",
       "      <td>./inputs/Voice 002.wav</td>\n",
       "      <td>down</td>\n",
       "      <td>down</td>\n",
       "    </tr>\n",
       "    <tr>\n",
       "      <th>2</th>\n",
       "      <td>./inputs/Voice 003.wav</td>\n",
       "      <td>up</td>\n",
       "      <td>go</td>\n",
       "    </tr>\n",
       "    <tr>\n",
       "      <th>3</th>\n",
       "      <td>./inputs/Voice 004.wav</td>\n",
       "      <td>up</td>\n",
       "      <td>go</td>\n",
       "    </tr>\n",
       "    <tr>\n",
       "      <th>4</th>\n",
       "      <td>./inputs/Voice 005.wav</td>\n",
       "      <td>stop</td>\n",
       "      <td>stop</td>\n",
       "    </tr>\n",
       "    <tr>\n",
       "      <th>5</th>\n",
       "      <td>./inputs/Voice 006.wav</td>\n",
       "      <td>go</td>\n",
       "      <td>up</td>\n",
       "    </tr>\n",
       "    <tr>\n",
       "      <th>6</th>\n",
       "      <td>./inputs/Voice 007.wav</td>\n",
       "      <td>stop</td>\n",
       "      <td>stop</td>\n",
       "    </tr>\n",
       "    <tr>\n",
       "      <th>7</th>\n",
       "      <td>./inputs/Voice 008.wav</td>\n",
       "      <td>stop</td>\n",
       "      <td>down</td>\n",
       "    </tr>\n",
       "    <tr>\n",
       "      <th>8</th>\n",
       "      <td>./inputs/Voice 009.wav</td>\n",
       "      <td>go</td>\n",
       "      <td>go</td>\n",
       "    </tr>\n",
       "    <tr>\n",
       "      <th>9</th>\n",
       "      <td>./inputs/Voice 010.wav</td>\n",
       "      <td>down</td>\n",
       "      <td>down</td>\n",
       "    </tr>\n",
       "  </tbody>\n",
       "</table>\n",
       "</div>"
      ],
      "text/plain": [
       "                file_name   key prediction\n",
       "0  ./inputs/Voice 001.wav    up         go\n",
       "1  ./inputs/Voice 002.wav  down       down\n",
       "2  ./inputs/Voice 003.wav    up         go\n",
       "3  ./inputs/Voice 004.wav    up         go\n",
       "4  ./inputs/Voice 005.wav  stop       stop\n",
       "5  ./inputs/Voice 006.wav    go         up\n",
       "6  ./inputs/Voice 007.wav  stop       stop\n",
       "7  ./inputs/Voice 008.wav  stop       down\n",
       "8  ./inputs/Voice 009.wav    go         go\n",
       "9  ./inputs/Voice 010.wav  down       down"
      ]
     },
     "execution_count": 7,
     "metadata": {},
     "output_type": "execute_result"
    }
   ],
   "source": [
    "prediction=[]\n",
    "def travis(row):\n",
    "    keyword = kss.predict(row.file_name)\n",
    "    prediction.append(keyword)\n",
    "\n",
    "out=data.apply(lambda row: travis(row),axis=1)\n",
    "\n",
    "data['prediction']=prediction\n",
    "data"
   ]
  },
  {
   "cell_type": "code",
   "execution_count": 8,
   "id": "e2d0783c",
   "metadata": {},
   "outputs": [
    {
     "name": "stdout",
     "output_type": "stream",
     "text": [
      "Average Accuracy: 50.00%\n"
     ]
    }
   ],
   "source": [
    "def sentence_accuracy(text1, text2):\n",
    "    return text1==text2\n",
    "\n",
    "# Calculate accuracy for each row\n",
    "accuracies = []\n",
    "for text1, text2 in zip(data['key'], data['prediction']):\n",
    "    text2=text2.upper()\n",
    "    text1=text1.upper()\n",
    "    accuracy = sentence_accuracy(text1, text2)\n",
    "    accuracies.append(accuracy)\n",
    "\n",
    "# Add the accuracies as a new column in the DataFrame\n",
    "data['sentence_level_accuracy'] = accuracies\n",
    "\n",
    "# Calculate the overall average accuracy\n",
    "average_accuracy = data['sentence_level_accuracy'].mean()\n",
    "\n",
    "# Print the results\n",
    "print(f\"Average Accuracy: {average_accuracy:.2%}\")"
   ]
  },
  {
   "cell_type": "code",
   "execution_count": 9,
   "id": "6eaf9f72",
   "metadata": {},
   "outputs": [
    {
     "data": {
      "text/html": [
       "<div>\n",
       "<style scoped>\n",
       "    .dataframe tbody tr th:only-of-type {\n",
       "        vertical-align: middle;\n",
       "    }\n",
       "\n",
       "    .dataframe tbody tr th {\n",
       "        vertical-align: top;\n",
       "    }\n",
       "\n",
       "    .dataframe thead th {\n",
       "        text-align: right;\n",
       "    }\n",
       "</style>\n",
       "<table border=\"1\" class=\"dataframe\">\n",
       "  <thead>\n",
       "    <tr style=\"text-align: right;\">\n",
       "      <th></th>\n",
       "      <th>file_name</th>\n",
       "      <th>key</th>\n",
       "      <th>prediction</th>\n",
       "      <th>sentence_level_accuracy</th>\n",
       "    </tr>\n",
       "  </thead>\n",
       "  <tbody>\n",
       "    <tr>\n",
       "      <th>0</th>\n",
       "      <td>./inputs/Voice 001.wav</td>\n",
       "      <td>up</td>\n",
       "      <td>go</td>\n",
       "      <td>False</td>\n",
       "    </tr>\n",
       "    <tr>\n",
       "      <th>1</th>\n",
       "      <td>./inputs/Voice 002.wav</td>\n",
       "      <td>down</td>\n",
       "      <td>down</td>\n",
       "      <td>True</td>\n",
       "    </tr>\n",
       "    <tr>\n",
       "      <th>2</th>\n",
       "      <td>./inputs/Voice 003.wav</td>\n",
       "      <td>up</td>\n",
       "      <td>go</td>\n",
       "      <td>False</td>\n",
       "    </tr>\n",
       "    <tr>\n",
       "      <th>3</th>\n",
       "      <td>./inputs/Voice 004.wav</td>\n",
       "      <td>up</td>\n",
       "      <td>go</td>\n",
       "      <td>False</td>\n",
       "    </tr>\n",
       "    <tr>\n",
       "      <th>4</th>\n",
       "      <td>./inputs/Voice 005.wav</td>\n",
       "      <td>stop</td>\n",
       "      <td>stop</td>\n",
       "      <td>True</td>\n",
       "    </tr>\n",
       "    <tr>\n",
       "      <th>5</th>\n",
       "      <td>./inputs/Voice 006.wav</td>\n",
       "      <td>go</td>\n",
       "      <td>up</td>\n",
       "      <td>False</td>\n",
       "    </tr>\n",
       "    <tr>\n",
       "      <th>6</th>\n",
       "      <td>./inputs/Voice 007.wav</td>\n",
       "      <td>stop</td>\n",
       "      <td>stop</td>\n",
       "      <td>True</td>\n",
       "    </tr>\n",
       "    <tr>\n",
       "      <th>7</th>\n",
       "      <td>./inputs/Voice 008.wav</td>\n",
       "      <td>stop</td>\n",
       "      <td>down</td>\n",
       "      <td>False</td>\n",
       "    </tr>\n",
       "    <tr>\n",
       "      <th>8</th>\n",
       "      <td>./inputs/Voice 009.wav</td>\n",
       "      <td>go</td>\n",
       "      <td>go</td>\n",
       "      <td>True</td>\n",
       "    </tr>\n",
       "    <tr>\n",
       "      <th>9</th>\n",
       "      <td>./inputs/Voice 010.wav</td>\n",
       "      <td>down</td>\n",
       "      <td>down</td>\n",
       "      <td>True</td>\n",
       "    </tr>\n",
       "  </tbody>\n",
       "</table>\n",
       "</div>"
      ],
      "text/plain": [
       "                file_name   key prediction  sentence_level_accuracy\n",
       "0  ./inputs/Voice 001.wav    up         go                    False\n",
       "1  ./inputs/Voice 002.wav  down       down                     True\n",
       "2  ./inputs/Voice 003.wav    up         go                    False\n",
       "3  ./inputs/Voice 004.wav    up         go                    False\n",
       "4  ./inputs/Voice 005.wav  stop       stop                     True\n",
       "5  ./inputs/Voice 006.wav    go         up                    False\n",
       "6  ./inputs/Voice 007.wav  stop       stop                     True\n",
       "7  ./inputs/Voice 008.wav  stop       down                    False\n",
       "8  ./inputs/Voice 009.wav    go         go                     True\n",
       "9  ./inputs/Voice 010.wav  down       down                     True"
      ]
     },
     "execution_count": 9,
     "metadata": {},
     "output_type": "execute_result"
    }
   ],
   "source": [
    "data"
   ]
  },
  {
   "cell_type": "code",
   "execution_count": null,
   "id": "c76c6d91",
   "metadata": {},
   "outputs": [],
   "source": []
  }
 ],
 "metadata": {
  "kernelspec": {
   "display_name": "Python 3 (ipykernel)",
   "language": "python",
   "name": "python3"
  },
  "language_info": {
   "codemirror_mode": {
    "name": "ipython",
    "version": 3
   },
   "file_extension": ".py",
   "mimetype": "text/x-python",
   "name": "python",
   "nbconvert_exporter": "python",
   "pygments_lexer": "ipython3",
   "version": "3.10.8"
  },
  "papermill": {
   "default_parameters": {},
   "duration": 23.607187,
   "end_time": "2022-03-30T04:56:31.316525",
   "environment_variables": {},
   "exception": null,
   "input_path": "__notebook__.ipynb",
   "output_path": "__notebook__.ipynb",
   "parameters": {},
   "start_time": "2022-03-30T04:56:07.709338",
   "version": "2.3.3"
  }
 },
 "nbformat": 4,
 "nbformat_minor": 5
}
